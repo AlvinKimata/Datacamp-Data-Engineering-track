{
 "cells": [
  {
   "cell_type": "markdown",
   "id": "da84632d-c11c-4ce3-9153-0607249a8bf4",
   "metadata": {},
   "source": [
    "### The main idea behind `scope` concept is a _variable_ is only available from inside the` region` it is created."
   ]
  },
  {
   "cell_type": "code",
   "execution_count": 1,
   "id": "2e265c6f-b235-4d71-82c6-761e69133f46",
   "metadata": {},
   "outputs": [
    {
     "name": "stdout",
     "output_type": "stream",
     "text": [
      "7\n"
     ]
    }
   ],
   "source": [
    "x = 7\n",
    "y = 200\n",
    "print(x)"
   ]
  },
  {
   "cell_type": "code",
   "execution_count": 2,
   "id": "7f98dad2-544a-4022-a8a8-231a217b2ef8",
   "metadata": {},
   "outputs": [
    {
     "name": "stdout",
     "output_type": "stream",
     "text": [
      "42\n",
      "200\n"
     ]
    }
   ],
   "source": [
    "def foo():\n",
    "    x = 42\n",
    "    print(x)\n",
    "    print(y)\n",
    "\n",
    "foo()"
   ]
  },
  {
   "cell_type": "markdown",
   "id": "86e5302d-fb40-425d-a21c-82c256233a8b",
   "metadata": {},
   "source": [
    "### The order in which the python interpreter looks for variables is:\n",
    "### 1. Local scope. `Inside of a function.`\n",
    "### 2. Global scope `Outside the function.`\n",
    "### 3. Builtin scope.\n",
    "### 4. Non-local functions. In the case of nested functions, Python will check the parent functino for the variable used.\n"
   ]
  },
  {
   "cell_type": "markdown",
   "id": "47fa9488-8021-469f-bf2f-2cedaa0a6736",
   "metadata": {},
   "source": [
    "### The `global` keyword is used to use and change values outside the scope of a function.\n"
   ]
  },
  {
   "cell_type": "code",
   "execution_count": 3,
   "id": "c01a47c6-f18a-4c36-8d1a-ff4a3811bedc",
   "metadata": {},
   "outputs": [
    {
     "name": "stdout",
     "output_type": "stream",
     "text": [
      "7\n",
      "42\n",
      "42\n"
     ]
    }
   ],
   "source": [
    "x = 7\n",
    "\n",
    "def foo():\n",
    "    global x\n",
    "    x = 42\n",
    "    print(x)\n",
    "    \n",
    "print(x)\n",
    "foo()\n",
    "print(x)"
   ]
  },
  {
   "cell_type": "markdown",
   "id": "47c38bbc-a7f7-4242-a2ea-1b579ba4987f",
   "metadata": {},
   "source": [
    "### It is not recommended to use the global keyword as it can make testing and debugging harder.\n",
    "***\n",
    "### If we want to modify a value outside a local scope, we can use the nonlocal keyword."
   ]
  },
  {
   "cell_type": "code",
   "execution_count": 4,
   "id": "0099fd04-826c-42fa-a9df-b354b9e4e987",
   "metadata": {},
   "outputs": [
    {
     "name": "stdout",
     "output_type": "stream",
     "text": [
      "200\n",
      "10\n"
     ]
    }
   ],
   "source": [
    "def foo():\n",
    "    x = 10\n",
    "    \n",
    "    def bar():\n",
    "        x = 200\n",
    "        print(x)\n",
    "        \n",
    "    bar()\n",
    "    print(x)\n",
    "    \n",
    "foo()"
   ]
  },
  {
   "cell_type": "code",
   "execution_count": 5,
   "id": "a036298b-e55c-4989-9554-5466114e9855",
   "metadata": {},
   "outputs": [
    {
     "name": "stdout",
     "output_type": "stream",
     "text": [
      "200\n",
      "200\n"
     ]
    }
   ],
   "source": [
    "def foo():\n",
    "    x = 10\n",
    "    \n",
    "    def bar():\n",
    "        nonlocal x\n",
    "        x = 200\n",
    "        print(x)\n",
    "        \n",
    "    bar()\n",
    "    print(x)\n",
    "    \n",
    "foo()"
   ]
  },
  {
   "cell_type": "code",
   "execution_count": null,
   "id": "ca3a86f0-7116-4778-ba0b-7674ef9bd903",
   "metadata": {},
   "outputs": [],
   "source": []
  }
 ],
 "metadata": {
  "kernelspec": {
   "display_name": "Python 3 (ipykernel)",
   "language": "python",
   "name": "python3"
  },
  "language_info": {
   "codemirror_mode": {
    "name": "ipython",
    "version": 3
   },
   "file_extension": ".py",
   "mimetype": "text/x-python",
   "name": "python",
   "nbconvert_exporter": "python",
   "pygments_lexer": "ipython3",
   "version": "3.9.12"
  }
 },
 "nbformat": 4,
 "nbformat_minor": 5
}
