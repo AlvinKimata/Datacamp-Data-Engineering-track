{
 "cells": [
  {
   "cell_type": "markdown",
   "id": "214ae2c0-6fe0-49aa-b4d7-57350e1833d7",
   "metadata": {},
   "source": [
    "### A context manager is a special python function that:\n",
    "- Sets up a context for your code.\n",
    "- Runs your code.\n",
    "- Removes the context."
   ]
  },
  {
   "cell_type": "markdown",
   "id": "261ccc1c-8d2f-459d-a667-812a0a53066d",
   "metadata": {},
   "source": [
    "### Illustration of a context manager with the `open()` function."
   ]
  },
  {
   "cell_type": "code",
   "execution_count": 4,
   "id": "985e102b-4419-4809-9e5e-330df472f5d6",
   "metadata": {},
   "outputs": [
    {
     "name": "stdout",
     "output_type": "stream",
     "text": [
      "The file is 86 characters long\n"
     ]
    }
   ],
   "source": [
    "#1. Setup a context by opening a file.\n",
    "with open('inputs/my_file.txt') as my_file:\n",
    "    \n",
    "    #2. Lets you run any code you want on that file.\n",
    "    text = my_file.read()\n",
    "    length = len(text)\n",
    "    \n",
    "    #3. Removes the context by closing the file.\n",
    "\n",
    "print('The file is {} characters long'.format(length))"
   ]
  },
  {
   "cell_type": "markdown",
   "id": "20596fea-83ba-4ac4-bd25-c984f9783cbb",
   "metadata": {},
   "source": [
    "## How to create a context manager.\n",
    "\n",
    "***\n",
    "```python\n",
    "@contextlib.contextmanager #Contextlib decorator.\n",
    "def my_context():\n",
    "    #Add any set up code you need.\n",
    "    yield\n",
    "    #Add the teardown code you need\n",
    "```\n",
    "***"
   ]
  },
  {
   "cell_type": "markdown",
   "id": "ba448c96-5767-45d8-89d0-e8c88bd91fd1",
   "metadata": {},
   "source": [
    "### The `yield` keyword is used to return a value, but you expect to finish the function at a later point."
   ]
  },
  {
   "cell_type": "code",
   "execution_count": 14,
   "id": "e6f0f196-6a1e-432a-8997-724d483351bb",
   "metadata": {},
   "outputs": [],
   "source": [
    "import contextlib "
   ]
  },
  {
   "cell_type": "code",
   "execution_count": 15,
   "id": "39fe874b-029c-4c24-91c8-0e72b225efa6",
   "metadata": {},
   "outputs": [],
   "source": [
    "@contextlib.contextmanager\n",
    "def my_context():\n",
    "    print('hello')\n",
    "    yield 42\n",
    "    print('Goodbye')"
   ]
  },
  {
   "cell_type": "code",
   "execution_count": 16,
   "id": "ada6cb46-73aa-481d-a457-94d037f75915",
   "metadata": {},
   "outputs": [
    {
     "name": "stdout",
     "output_type": "stream",
     "text": [
      "hello\n",
      "foo is: 42\n",
      "Goodbye\n"
     ]
    }
   ],
   "source": [
    "with my_context() as foo:\n",
    "    print('foo is: {}'.format(foo))"
   ]
  },
  {
   "cell_type": "markdown",
   "id": "6f4c6822-25e2-4aae-a6c9-77611cf344f7",
   "metadata": {},
   "source": [
    "## Excercise."
   ]
  },
  {
   "cell_type": "code",
   "execution_count": 17,
   "id": "172fa695-7a96-42ff-9208-31b6d84bc794",
   "metadata": {},
   "outputs": [],
   "source": [
    "#A read-only context manager.\n",
    "@contextlib.contextmanager\n",
    "def open_read_only(filename):\n",
    "    \"\"\"Open a file in read-only mode.\n",
    "\n",
    "    Args:\n",
    "    filename (str): The location of the file to read\n",
    "\n",
    "    Yields:\n",
    "    file object\n",
    "    \"\"\"\n",
    "    read_only_file = open(filename, mode = 'r')\n",
    "    \n",
    "    #Yield read_only_file so that it can be assigned to my_file.\n",
    "    yield read_only_file\n",
    "    \n",
    "    #Close read_only_file\n",
    "    read_only_file.close()"
   ]
  },
  {
   "cell_type": "code",
   "execution_count": 18,
   "id": "b181f168-e70d-4224-841b-16ac504a95da",
   "metadata": {},
   "outputs": [
    {
     "name": "stdout",
     "output_type": "stream",
     "text": [
      "This is a sample text file.\n",
      "It is used for demonstrating the use of a context manager.\n"
     ]
    }
   ],
   "source": [
    "with open('inputs/my_file.txt') as my_file:\n",
    "    print(my_file.read())"
   ]
  },
  {
   "cell_type": "markdown",
   "id": "ddf64ba8-29f5-457b-b940-f6805019c618",
   "metadata": {},
   "source": [
    "## Advanced topics."
   ]
  },
  {
   "cell_type": "markdown",
   "id": "739082c8-59cc-4cad-b68f-e5087fea30e5",
   "metadata": {},
   "source": [
    "### _Context manager patterns._\n",
    "\n",
    "|Open   | Close       |\n",
    "| --- | --- |\n",
    "|Lock   | Release     |\n",
    "|Change | Reset       |\n",
    "|Enter  | Exit        |\n",
    "|Start  | Stop        |\n",
    "|Setup  | Teardown    |\n",
    "|Connect| Disconnect  | \n"
   ]
  },
  {
   "cell_type": "code",
   "execution_count": null,
   "id": "89d9b865-c8df-4513-aedd-3d2573ff6a9c",
   "metadata": {},
   "outputs": [],
   "source": []
  }
 ],
 "metadata": {
  "kernelspec": {
   "display_name": "Python 3 (ipykernel)",
   "language": "python",
   "name": "python3"
  },
  "language_info": {
   "codemirror_mode": {
    "name": "ipython",
    "version": 3
   },
   "file_extension": ".py",
   "mimetype": "text/x-python",
   "name": "python",
   "nbconvert_exporter": "python",
   "pygments_lexer": "ipython3",
   "version": "3.9.12"
  }
 },
 "nbformat": 4,
 "nbformat_minor": 5
}
