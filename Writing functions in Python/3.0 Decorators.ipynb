{
 "cells": [
  {
   "cell_type": "markdown",
   "id": "05c5165d-c1f4-4c28-87f6-95357ffd9b1a",
   "metadata": {},
   "source": [
    "#### Decorators modify the behaviour of functions.\n",
    "#### Functions are just another type of object like lists and tuples."
   ]
  },
  {
   "cell_type": "markdown",
   "id": "ab89e70c-5306-44e9-96b3-e8efc7030c4f",
   "metadata": {},
   "source": [
    "### Functions as `variables`."
   ]
  },
  {
   "cell_type": "code",
   "execution_count": 1,
   "id": "89f20004-0a98-499b-a19b-8487b0b7b954",
   "metadata": {},
   "outputs": [
    {
     "data": {
      "text/plain": [
       "function"
      ]
     },
     "execution_count": 1,
     "metadata": {},
     "output_type": "execute_result"
    }
   ],
   "source": [
    "#A function can be assigned to a variable.\n",
    "def my_function():\n",
    "    print('hello')\n",
    "    \n",
    "x = my_function\n",
    "type(x)"
   ]
  },
  {
   "cell_type": "code",
   "execution_count": 2,
   "id": "d0bceeba-b47d-4924-95f0-4825d1936426",
   "metadata": {},
   "outputs": [
    {
     "name": "stdout",
     "output_type": "stream",
     "text": [
      "hello\n"
     ]
    }
   ],
   "source": [
    "x()"
   ]
  },
  {
   "cell_type": "markdown",
   "id": "39f7c6fa-2f00-4c95-8bcb-38a516ea14e9",
   "metadata": {},
   "source": [
    "### Add functions to a `list` or a `dictionary`."
   ]
  },
  {
   "cell_type": "code",
   "execution_count": 3,
   "id": "89825e1e-5963-482c-abbc-dc8da26cd01f",
   "metadata": {},
   "outputs": [
    {
     "name": "stdout",
     "output_type": "stream",
     "text": [
      "I am printing with an element of the list.\n"
     ]
    }
   ],
   "source": [
    "list_of_functions = [my_function, open, print]\n",
    "\n",
    "\n",
    "#Call an element of the list and pass an argument.\n",
    "list_of_functions[2]('I am printing with an element of the list.')"
   ]
  },
  {
   "cell_type": "code",
   "execution_count": 4,
   "id": "33911db8-07bc-44b9-84d2-312fafc4f26c",
   "metadata": {},
   "outputs": [
    {
     "name": "stdout",
     "output_type": "stream",
     "text": [
      "I am printing with an element of a dictionary.\n"
     ]
    }
   ],
   "source": [
    "dict_of_functions = {'func1': my_function,\n",
    "                    'func2': open,\n",
    "                    'func3': print\n",
    "                    }\n",
    "\n",
    "dict_of_functions['func3']('I am printing with an element of a dictionary.')"
   ]
  },
  {
   "cell_type": "markdown",
   "id": "f8fc8e62-183e-4833-9f1a-aac9a365911b",
   "metadata": {},
   "source": [
    "###  Referencing a function."
   ]
  },
  {
   "cell_type": "code",
   "execution_count": 5,
   "id": "700b6f61-4e8a-4f4f-8910-4daf951d3465",
   "metadata": {},
   "outputs": [
    {
     "data": {
      "text/plain": [
       "42"
      ]
     },
     "execution_count": 5,
     "metadata": {},
     "output_type": "execute_result"
    }
   ],
   "source": [
    "def my_function():\n",
    "    return 42\n",
    "\n",
    "x = my_function\n",
    "\n",
    "#Call the function.\n",
    "my_function()"
   ]
  },
  {
   "cell_type": "code",
   "execution_count": 6,
   "id": "4b26fc83-be2a-4717-944e-750318ab59a1",
   "metadata": {},
   "outputs": [
    {
     "data": {
      "text/plain": [
       "<function __main__.my_function()>"
      ]
     },
     "execution_count": 6,
     "metadata": {},
     "output_type": "execute_result"
    }
   ],
   "source": [
    "#Refereincing the function.\n",
    "my_function"
   ]
  },
  {
   "cell_type": "markdown",
   "id": "f09a88be-4df4-4789-97eb-85ad4fff8f58",
   "metadata": {},
   "source": [
    "### Functions as `arguments`."
   ]
  },
  {
   "cell_type": "code",
   "execution_count": 7,
   "id": "a3108fd6-1818-453f-b7c6-efe250775996",
   "metadata": {},
   "outputs": [],
   "source": [
    "def has_docstring(func):\n",
    "    \"\"\"\n",
    "    Checks to see if the function\n",
    "    `func` has a docstring.\n",
    "    \n",
    "    Args:\n",
    "        func (callable): A function.\n",
    "        \n",
    "    Returns:\n",
    "        bool\n",
    "    \"\"\"\n",
    "    return func.__doc__ is not None"
   ]
  },
  {
   "cell_type": "code",
   "execution_count": 8,
   "id": "202b1338-080b-4870-bfc8-a3793eb07e20",
   "metadata": {},
   "outputs": [],
   "source": [
    "def no():\n",
    "    return 42\n",
    "\n",
    "def yes():\n",
    "    \"\"\"Return the value 42.\"\"\"\n",
    "    return 42"
   ]
  },
  {
   "cell_type": "code",
   "execution_count": 9,
   "id": "d54fae88-0468-41f8-9c5e-65dd4c8e56c5",
   "metadata": {},
   "outputs": [
    {
     "data": {
      "text/plain": [
       "False"
      ]
     },
     "execution_count": 9,
     "metadata": {},
     "output_type": "execute_result"
    }
   ],
   "source": [
    "has_docstring(no)"
   ]
  },
  {
   "cell_type": "code",
   "execution_count": 12,
   "id": "f552667a-db0a-4fa1-a05f-05989e71a08e",
   "metadata": {},
   "outputs": [
    {
     "data": {
      "text/plain": [
       "True"
      ]
     },
     "execution_count": 12,
     "metadata": {},
     "output_type": "execute_result"
    }
   ],
   "source": [
    "has_docstring(yes)"
   ]
  },
  {
   "cell_type": "markdown",
   "id": "52170fbd-4294-47a2-8154-603d89bf49d9",
   "metadata": {},
   "source": [
    "### Defining a function inside another function. `Nested`, `helper` or `inner` function.`"
   ]
  },
  {
   "cell_type": "code",
   "execution_count": 10,
   "id": "4a972772-0f52-40c6-a7e6-9df5faa4fea2",
   "metadata": {},
   "outputs": [],
   "source": [
    "def foo():\n",
    "    x = [3, 6, 9]\n",
    "    \n",
    "    def bar(y):\n",
    "        print(y)\n",
    "    \n",
    "    for value in x:\n",
    "        bar(x)"
   ]
  },
  {
   "cell_type": "code",
   "execution_count": 11,
   "id": "d7f95961-e455-4fdd-85bc-c2d6acc9da94",
   "metadata": {},
   "outputs": [
    {
     "name": "stdout",
     "output_type": "stream",
     "text": [
      "[3, 6, 9]\n",
      "[3, 6, 9]\n",
      "[3, 6, 9]\n"
     ]
    }
   ],
   "source": [
    "foo()"
   ]
  },
  {
   "cell_type": "code",
   "execution_count": 12,
   "id": "3929e703-8953-44dc-9173-539fd54d3cad",
   "metadata": {},
   "outputs": [
    {
     "name": "stdout",
     "output_type": "stream",
     "text": [
      "This is a sentence\n"
     ]
    }
   ],
   "source": [
    "#Define an in-range function.\n",
    "def get_function():\n",
    "    def print_me(s):\n",
    "        print(s)\n",
    "        \n",
    "    return print_me\n",
    "\n",
    "new_func = get_function()\n",
    "new_func('This is a sentence')"
   ]
  },
  {
   "cell_type": "code",
   "execution_count": null,
   "id": "db5ae770-3350-455a-9564-cbd9baab28d1",
   "metadata": {},
   "outputs": [],
   "source": []
  }
 ],
 "metadata": {
  "kernelspec": {
   "display_name": "Python 3 (ipykernel)",
   "language": "python",
   "name": "python3"
  },
  "language_info": {
   "codemirror_mode": {
    "name": "ipython",
    "version": 3
   },
   "file_extension": ".py",
   "mimetype": "text/x-python",
   "name": "python",
   "nbconvert_exporter": "python",
   "pygments_lexer": "ipython3",
   "version": "3.9.12"
  }
 },
 "nbformat": 4,
 "nbformat_minor": 5
}
