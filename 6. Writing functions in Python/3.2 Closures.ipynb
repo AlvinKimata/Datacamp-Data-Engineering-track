{
 "cells": [
  {
   "cell_type": "markdown",
   "id": "1065eae5-9971-4d0d-b8bd-6d8a872d424e",
   "metadata": {},
   "source": [
    "### A `closure` is a _tuple of variables_ that are no longer in scope, but that a function needs in order to run."
   ]
  },
  {
   "cell_type": "code",
   "execution_count": 1,
   "id": "fc492209-552f-4613-83c1-7e44b76e0f25",
   "metadata": {},
   "outputs": [
    {
     "name": "stdout",
     "output_type": "stream",
     "text": [
      "5\n"
     ]
    }
   ],
   "source": [
    "def foo():\n",
    "    a = 5\n",
    "    \n",
    "    def bar():\n",
    "        print(a)\n",
    "    return bar\n",
    "\n",
    "func = foo()\n",
    "func()"
   ]
  },
  {
   "cell_type": "markdown",
   "id": "2c9e8b65-95d4-4154-b145-0e10406120bd",
   "metadata": {},
   "source": [
    "#### Python attachs any non local variable that `bar()` was going to need to the function object.\n",
    "\n",
    "#### These variables are stored in the `__closure__` attribute of the function."
   ]
  },
  {
   "cell_type": "code",
   "execution_count": 2,
   "id": "83916328-4ef5-4a33-8769-736d5972b313",
   "metadata": {},
   "outputs": [
    {
     "data": {
      "text/plain": [
       "tuple"
      ]
     },
     "execution_count": 2,
     "metadata": {},
     "output_type": "execute_result"
    }
   ],
   "source": [
    "#Closure.\n",
    "type(func.__closure__)"
   ]
  },
  {
   "cell_type": "code",
   "execution_count": 3,
   "id": "de81b41f-947a-4a32-b709-947d612bb4f9",
   "metadata": {},
   "outputs": [
    {
     "name": "stdout",
     "output_type": "stream",
     "text": [
      "5\n"
     ]
    }
   ],
   "source": [
    "print(func.__closure__[0].cell_contents)"
   ]
  },
  {
   "cell_type": "markdown",
   "id": "ea1565b3-8293-43e7-a11f-594d5e1e4123",
   "metadata": {},
   "source": [
    "### Closures and deletion.\n",
    "***"
   ]
  },
  {
   "cell_type": "code",
   "execution_count": 4,
   "id": "3573abee-c8d5-46fe-ab20-d53dfa6c85aa",
   "metadata": {},
   "outputs": [
    {
     "name": "stdout",
     "output_type": "stream",
     "text": [
      "25\n"
     ]
    }
   ],
   "source": [
    "x = 25\n",
    "\n",
    "def foo(value):\n",
    "    def bar():\n",
    "        print(value)\n",
    "    return bar\n",
    "\n",
    "\n",
    "my_func = foo(x)\n",
    "my_func()"
   ]
  },
  {
   "cell_type": "code",
   "execution_count": 5,
   "id": "2e428a75-2ea1-4cf5-bd60-4f2ead32dbaf",
   "metadata": {},
   "outputs": [
    {
     "name": "stdout",
     "output_type": "stream",
     "text": [
      "25\n"
     ]
    }
   ],
   "source": [
    "del(x)\n",
    "my_func()"
   ]
  },
  {
   "cell_type": "markdown",
   "id": "4afe8b3d-951b-4f73-af00-2b1f8a992398",
   "metadata": {},
   "source": [
    "### Even though x is deleted, the value perists in the functions closure."
   ]
  },
  {
   "cell_type": "code",
   "execution_count": null,
   "id": "8d71397b-8e17-42c1-ae72-0c66bc655743",
   "metadata": {},
   "outputs": [],
   "source": []
  }
 ],
 "metadata": {
  "kernelspec": {
   "display_name": "Python 3 (ipykernel)",
   "language": "python",
   "name": "python3"
  },
  "language_info": {
   "codemirror_mode": {
    "name": "ipython",
    "version": 3
   },
   "file_extension": ".py",
   "mimetype": "text/x-python",
   "name": "python",
   "nbconvert_exporter": "python",
   "pygments_lexer": "ipython3",
   "version": "3.9.12"
  }
 },
 "nbformat": 4,
 "nbformat_minor": 5
}
