{
 "cells": [
  {
   "cell_type": "markdown",
   "id": "ec16fe5a-0134-43d0-9fac-e869b8eda9f6",
   "metadata": {},
   "source": [
    "## This notebook illustrates use cases for decorators."
   ]
  },
  {
   "cell_type": "code",
   "execution_count": 1,
   "id": "db39c72f-c3ab-4039-925e-91d5db5967cf",
   "metadata": {},
   "outputs": [],
   "source": [
    "import time"
   ]
  },
  {
   "cell_type": "code",
   "execution_count": 2,
   "id": "3e1a193f-1990-41d3-91e8-4e33958fb3ad",
   "metadata": {},
   "outputs": [],
   "source": [
    "def timer(func):\n",
    "    \"\"\"A decorator that prints how long a function took to run.\"\"\"\n",
    "    \n",
    "    #Define the wrapper function to return.\n",
    "    def wrapper(*args, **kwargs):\n",
    "        #Get the current time.\n",
    "        t_start = time.time()\n",
    "        \n",
    "        #Call the decorated function and store the result.\n",
    "        result = func(*args, **kwargs)\n",
    "        \n",
    "        #Get the total time it took you to run, and print it.\n",
    "        t_total = time.time() - t_start\n",
    "        print('{} took {}s'.format(func.__name__, t_total))\n",
    "        return result\n",
    "    return wrapper"
   ]
  },
  {
   "cell_type": "code",
   "execution_count": 3,
   "id": "f8753c91-d001-4267-b981-d796b124ee8b",
   "metadata": {},
   "outputs": [
    {
     "name": "stdout",
     "output_type": "stream",
     "text": [
      "sleep_n_seconds took 3.0003247261047363s\n"
     ]
    }
   ],
   "source": [
    "@timer\n",
    "def sleep_n_seconds(n):\n",
    "    time.sleep(n)\n",
    "    \n",
    "sleep_n_seconds(3)"
   ]
  },
  {
   "cell_type": "markdown",
   "id": "8ad43777-450f-4f40-b072-cd53e1335392",
   "metadata": {},
   "source": [
    "### It can be used to find the slow parts of your code.\n"
   ]
  },
  {
   "cell_type": "markdown",
   "id": "d17aaea2-70d2-4af2-877d-b98959e4a4f1",
   "metadata": {},
   "source": [
    "***\n",
    "### `Memoizing` is the process of storing the results of a function, so that the next time the function is called with the same arguments, the functon can just lookup the answer.\n"
   ]
  },
  {
   "cell_type": "code",
   "execution_count": 4,
   "id": "562c2ba8-90ea-42c4-82c7-12df59cf2dcf",
   "metadata": {},
   "outputs": [],
   "source": [
    "def memoize(func):\n",
    "    \"\"\"Store the results of the decorated function for fast lookup.\n",
    "    \"\"\"\n",
    "    #Store results in a dict that maps arguments to results.\n",
    "    cache = {}\n",
    "    \n",
    "    #Define the wrapper function to return.\n",
    "    def wrapper(*args, **kwargs):\n",
    "        #If these arguments haven't been seen before, \n",
    "        if (str(args), str(kwargs)) not in cache:\n",
    "            #Call func() and store the result.\n",
    "            cache[(str(args), str(kwargs))] = func(*args, **kwargs)\n",
    "        return cache[(str(args), str(kwargs))]\n",
    "    return wrapper"
   ]
  },
  {
   "cell_type": "code",
   "execution_count": 5,
   "id": "830b72cc-8211-445a-a954-a0b7b3adc790",
   "metadata": {},
   "outputs": [],
   "source": [
    "@memoize\n",
    "def slow_function(a, b):\n",
    "    print('Sleeping...')\n",
    "    time.sleep(5)\n",
    "    return a + b"
   ]
  },
  {
   "cell_type": "code",
   "execution_count": 6,
   "id": "cb2094ab-8093-4243-9593-3465717f5026",
   "metadata": {},
   "outputs": [
    {
     "name": "stdout",
     "output_type": "stream",
     "text": [
      "Sleeping...\n"
     ]
    },
    {
     "data": {
      "text/plain": [
       "7"
      ]
     },
     "execution_count": 6,
     "metadata": {},
     "output_type": "execute_result"
    }
   ],
   "source": [
    "slow_function(3, 4)"
   ]
  },
  {
   "cell_type": "code",
   "execution_count": 7,
   "id": "fca4c114-7ee0-4588-9ca6-5f40902b5151",
   "metadata": {},
   "outputs": [
    {
     "data": {
      "text/plain": [
       "7"
      ]
     },
     "execution_count": 7,
     "metadata": {},
     "output_type": "execute_result"
    }
   ],
   "source": [
    "slow_function(3, 4)"
   ]
  },
  {
   "cell_type": "markdown",
   "id": "2fed88df-27ea-4e8b-a7e7-f174bda67af6",
   "metadata": {},
   "source": [
    "## When to use decorators:\n",
    "### 1. Add common behaviour to multiple functions.\n"
   ]
  },
  {
   "cell_type": "code",
   "execution_count": 8,
   "id": "a03a5658-973f-49a7-8043-ec5595a5e32d",
   "metadata": {},
   "outputs": [
    {
     "name": "stdout",
     "output_type": "stream",
     "text": [
      "foo() returned type <class 'int'>\n",
      "42\n",
      "foo() returned type <class 'list'>\n",
      "[1, 2, 3]\n",
      "foo() returned type <class 'dict'>\n",
      "{'a': 42}\n"
     ]
    }
   ],
   "source": [
    "def print_return_type(func):\n",
    "    # Define wrapper(), the decorated function\n",
    "    def wrapper(*args, **kwargs):\n",
    "        # Call the function being decorated\n",
    "        result = func(*args, **kwargs)\n",
    "        print('{}() returned type {}'.format(\n",
    "          func.__name__, type(result)\n",
    "        ))\n",
    "        return result\n",
    "    # Return the decorated function\n",
    "    return wrapper\n",
    "  \n",
    "@print_return_type\n",
    "def foo(value):\n",
    "    return value\n",
    "  \n",
    "print(foo(42))\n",
    "print(foo([1, 2, 3]))\n",
    "print(foo({'a': 42}))"
   ]
  },
  {
   "cell_type": "code",
   "execution_count": 9,
   "id": "a02126bc-8a99-4b44-ac7b-811199b6e111",
   "metadata": {},
   "outputs": [
    {
     "name": "stdout",
     "output_type": "stream",
     "text": [
      "foo() was called 2 times.\n"
     ]
    }
   ],
   "source": [
    "def counter(func):\n",
    "    def wrapper(*args, **kwargs):\n",
    "        wrapper.count += 1\n",
    "        # Call the function being decorated and return the result\n",
    "        return wrapper\n",
    "    wrapper.count = 0\n",
    "    # Return the new decorated function\n",
    "    return wrapper\n",
    "\n",
    "# Decorate foo() with the counter() decorator\n",
    "@counter\n",
    "def foo():\n",
    "    print('calling foo()')\n",
    "    \n",
    "\n",
    "foo()\n",
    "foo()\n",
    "\n",
    "print('foo() was called {} times.'.format(foo.count))"
   ]
  },
  {
   "cell_type": "code",
   "execution_count": null,
   "id": "333060be-46bc-4c72-9dd8-7e0de83f7a42",
   "metadata": {},
   "outputs": [],
   "source": []
  }
 ],
 "metadata": {
  "kernelspec": {
   "display_name": "Python 3 (ipykernel)",
   "language": "python",
   "name": "python3"
  },
  "language_info": {
   "codemirror_mode": {
    "name": "ipython",
    "version": 3
   },
   "file_extension": ".py",
   "mimetype": "text/x-python",
   "name": "python",
   "nbconvert_exporter": "python",
   "pygments_lexer": "ipython3",
   "version": "3.9.12"
  }
 },
 "nbformat": 4,
 "nbformat_minor": 5
}
